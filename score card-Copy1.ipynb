{
 "cells": [
  {
   "cell_type": "code",
   "execution_count": 1,
   "metadata": {},
   "outputs": [],
   "source": [
    "import pandas as pd\n",
    "import dateutil.relativedelta as datediff\n",
    "# from subprocess import InvalidIndexError"
   ]
  },
  {
   "cell_type": "code",
   "execution_count": 2,
   "metadata": {},
   "outputs": [],
   "source": [
    "df_bouncing_data= pd.read_excel(\"/home/rami/Downloads/lk.xlsx\",sheet_name='Bouncing Data')"
   ]
  },
  {
   "cell_type": "code",
   "execution_count": 3,
   "metadata": {},
   "outputs": [],
   "source": [
    "df_DPD_data= pd.read_excel(\"/home/rami/Downloads/lk.xlsx\",sheet_name='DPD')"
   ]
  },
  {
   "cell_type": "code",
   "execution_count": 8,
   "metadata": {},
   "outputs": [],
   "source": [
    "df_bouncing_data['Presentation_Date']=df_bouncing_data.Presentation_Date.apply(lambda dt:dt.replace(day=5))\n",
    "df_DPD_data['MONTH']=df_DPD_data.MONTH.apply(lambda dt:dt.replace(day=5))"
   ]
  },
  {
   "cell_type": "code",
   "execution_count": 19,
   "metadata": {},
   "outputs": [
    {
     "data": {
      "text/plain": [
       "Index(['Deal_No', 'dpd', 'max_dpd_quarter', 'max_dpd_half_year',\n",
       "       'max_dpd_annual'],\n",
       "      dtype='object')"
      ]
     },
     "execution_count": 19,
     "metadata": {},
     "output_type": "execute_result"
    }
   ],
   "source": [
    "print(df_bouncing_data['Presentation_Date'].head())\n",
    "print(df_DPD_dat['MONTH'].head())"
   ]
  },
  {
   "cell_type": "markdown",
   "metadata": {},
   "source": [
    "# DPD part -1 : calculation of dpd querterly etc.,"
   ]
  },
  {
   "cell_type": "code",
   "execution_count": 6,
   "metadata": {},
   "outputs": [],
   "source": [
    "#calculation maximum due days in the last three months\n",
    "#calculation max dpds in the last quarted, half yearly, annualy\n",
    "def max_due_days(row,index,df_DPD_data):\n",
    "    month1=index[1]-datediff.relativedelta(months=1)\n",
    "    month2=index[1]-datediff.relativedelta(months=2)\n",
    "    month3=index[1]-datediff.relativedelta(months=3)\n",
    "    month4=index[1]-datediff.relativedelta(months=4)\n",
    "    month5=index[1]-datediff.relativedelta(months=5)\n",
    "    month6=index[1]-datediff.relativedelta(months=6)\n",
    "    month7=index[1]-datediff.relativedelta(months=7)\n",
    "    month8=index[1]-datediff.relativedelta(months=8)\n",
    "    month9=index[1]-datediff.relativedelta(months=9)\n",
    "    month10=index[1]-datediff.relativedelta(months=10)\n",
    "    month11=index[1]-datediff.relativedelta(months=11)\n",
    "    month12=index[1]-datediff.relativedelta(months=12)\n",
    "    k=index[0]\n",
    "    bounces=[0]\n",
    "    start_date=startdate_dpd.loc[k]['MONTH']\n",
    "    index1=(index[0],month1)\n",
    "    index2=(index[0],month2)\n",
    "    index3=(index[0],month3)\n",
    "    index4=(index[0],month4)\n",
    "    index5=(index[0],month5)\n",
    "    index6=(index[0],month6)\n",
    "    index7=(index[0],month7)\n",
    "    index8=(index[0],month8)\n",
    "    index9=(index[0],month9)\n",
    "    index10=(index[0],month10)\n",
    "    index11=(index[0],month11)\n",
    "    index12=(index[0],month12)\n",
    "    if month1>=start_date:\n",
    "        bounces.append(df_DPD_data.loc[index1]['dpd'])\n",
    "#     print(df_DPD_data.loc[index1]['dpd'])\n",
    "    if month2>=start_date:\n",
    "        bounces.append(df_DPD_data.loc[index2]['dpd'])\n",
    "    if month3>=start_date:\n",
    "        bounces.append(df_DPD_data.loc[index3]['dpd'])\n",
    "    if month4>=start_date:\n",
    "        bounces.append(df_DPD_data.loc[index4]['dpd'])\n",
    "    if month5>=start_date:\n",
    "        bounces.append(df_DPD_data.loc[index5]['dpd'])\n",
    "    if month6>=start_date:\n",
    "        bounces.append(df_DPD_data.loc[index6]['dpd'])\n",
    "    if month7>=start_date:\n",
    "        bounces.append(df_DPD_data.loc[index7]['dpd'])\n",
    "    if month8>=start_date:\n",
    "        bounces.append(df_DPD_data.loc[index8]['dpd'])\n",
    "    if month9>=start_date:\n",
    "        bounces.append(df_DPD_data.loc[index9]['dpd'])\n",
    "    if month10>=start_date:\n",
    "        bounces.append(df_DPD_data.loc[index10]['dpd'])\n",
    "    if month11>=start_date:\n",
    "        bounces.append(df_DPD_data.loc[index11]['dpd'])\n",
    "    if month12>=start_date:\n",
    "        bounces.append(df_DPD_data.loc[index12]['dpd'])\n",
    "    return max(bounces[:3]),max(bounces[:6]),max(bounces)"
   ]
  },
  {
   "cell_type": "code",
   "execution_count": 11,
   "metadata": {},
   "outputs": [],
   "source": [
    "startdate_dpd = pd.DataFrame(df_DPD_data.groupby(['DealId'])['MONTH'].min())\n",
    "df_DPD_data['max_dpd_quarter'] = None\n",
    "df_DPD_data['max_dpd_half_year']=None\n",
    "df_DPD_data['max_dpd_annual']=None\n",
    "df_DPD_data=df_DPD_data.set_index(['DealId','MONTH'])"
   ]
  },
  {
   "cell_type": "code",
   "execution_count": 13,
   "metadata": {},
   "outputs": [],
   "source": [
    "# df_DPD_data['max_dpd_in_quarter']=df_DPD_data.apply(lambda row:max_due_days(row,df_DPD_data),axis=1)\n",
    "for index,row in df_DPD_data.iterrows():\n",
    "    df_DPD_data.ix[index,'max_dpd_quarter'],df_DPD_data.ix[index,'max_dpd_half_year'],\\\n",
    "    df_DPD_data.ix[index,'max_dpd_annual']=(max_due_days(row,index,df_DPD_data))"
   ]
  },
  {
   "cell_type": "code",
   "execution_count": 152,
   "metadata": {},
   "outputs": [],
   "source": [
    "df_DPD_data.to_excel('/home/rami/Downloads/dpd2.xlsx')"
   ]
  },
  {
   "cell_type": "code",
   "execution_count": 14,
   "metadata": {},
   "outputs": [
    {
     "data": {
      "text/html": [
       "<div>\n",
       "<style scoped>\n",
       "    .dataframe tbody tr th:only-of-type {\n",
       "        vertical-align: middle;\n",
       "    }\n",
       "\n",
       "    .dataframe tbody tr th {\n",
       "        vertical-align: top;\n",
       "    }\n",
       "\n",
       "    .dataframe thead th {\n",
       "        text-align: right;\n",
       "    }\n",
       "</style>\n",
       "<table border=\"1\" class=\"dataframe\">\n",
       "  <thead>\n",
       "    <tr style=\"text-align: right;\">\n",
       "      <th></th>\n",
       "      <th></th>\n",
       "      <th>Deal_No</th>\n",
       "      <th>dpd</th>\n",
       "      <th>max_dpd_quarter</th>\n",
       "      <th>max_dpd_half_year</th>\n",
       "      <th>max_dpd_annual</th>\n",
       "    </tr>\n",
       "    <tr>\n",
       "      <th>DealId</th>\n",
       "      <th>MONTH</th>\n",
       "      <th></th>\n",
       "      <th></th>\n",
       "      <th></th>\n",
       "      <th></th>\n",
       "      <th></th>\n",
       "    </tr>\n",
       "  </thead>\n",
       "  <tbody>\n",
       "    <tr>\n",
       "      <th rowspan=\"5\" valign=\"top\">100897748</th>\n",
       "      <th>2016-02-05</th>\n",
       "      <td>31772</td>\n",
       "      <td>0</td>\n",
       "      <td>0</td>\n",
       "      <td>0</td>\n",
       "      <td>0</td>\n",
       "    </tr>\n",
       "    <tr>\n",
       "      <th>2016-03-05</th>\n",
       "      <td>31772</td>\n",
       "      <td>0</td>\n",
       "      <td>0</td>\n",
       "      <td>0</td>\n",
       "      <td>0</td>\n",
       "    </tr>\n",
       "    <tr>\n",
       "      <th>2016-04-05</th>\n",
       "      <td>31772</td>\n",
       "      <td>0</td>\n",
       "      <td>0</td>\n",
       "      <td>0</td>\n",
       "      <td>0</td>\n",
       "    </tr>\n",
       "    <tr>\n",
       "      <th>2016-05-05</th>\n",
       "      <td>31772</td>\n",
       "      <td>0</td>\n",
       "      <td>0</td>\n",
       "      <td>0</td>\n",
       "      <td>0</td>\n",
       "    </tr>\n",
       "    <tr>\n",
       "      <th>2016-06-05</th>\n",
       "      <td>31772</td>\n",
       "      <td>0</td>\n",
       "      <td>0</td>\n",
       "      <td>0</td>\n",
       "      <td>0</td>\n",
       "    </tr>\n",
       "  </tbody>\n",
       "</table>\n",
       "</div>"
      ],
      "text/plain": [
       "                      Deal_No  dpd max_dpd_quarter max_dpd_half_year  \\\n",
       "DealId    MONTH                                                        \n",
       "100897748 2016-02-05    31772    0               0                 0   \n",
       "          2016-03-05    31772    0               0                 0   \n",
       "          2016-04-05    31772    0               0                 0   \n",
       "          2016-05-05    31772    0               0                 0   \n",
       "          2016-06-05    31772    0               0                 0   \n",
       "\n",
       "                     max_dpd_annual  \n",
       "DealId    MONTH                      \n",
       "100897748 2016-02-05              0  \n",
       "          2016-03-05              0  \n",
       "          2016-04-05              0  \n",
       "          2016-05-05              0  \n",
       "          2016-06-05              0  "
      ]
     },
     "execution_count": 14,
     "metadata": {},
     "output_type": "execute_result"
    }
   ],
   "source": [
    "df_DPD_data.head()"
   ]
  },
  {
   "cell_type": "markdown",
   "metadata": {},
   "source": [
    "## DPD Part 2: Creation of DPDBins"
   ]
  },
  {
   "cell_type": "code",
   "execution_count": 21,
   "metadata": {},
   "outputs": [
    {
     "data": {
      "text/plain": [
       "[0,1]       89579\n",
       "(15,30]      9842\n",
       "(90,534]     2684\n",
       "(45,60]      2668\n",
       "(75,90]      1295\n",
       "(1,15]        178\n",
       "(30,45]        45\n",
       "(60,75]        14\n",
       "Name: dpd_bin, dtype: int64"
      ]
     },
     "execution_count": 21,
     "metadata": {},
     "output_type": "execute_result"
    }
   ],
   "source": [
    "bins=[-1,1,15,30,45,60,75,90,max(df_DPD_data['dpd'])]\n",
    "labels = ['[0,1]','(1,15]','(15,30]','(30,45]','(45,60]','(60,75]','(75,90]','(90,534]']\n",
    "df_DPD_data['dpd_bin']=pd.cut(df_DPD_data['dpd'],bins,labels=labels)\n",
    "df_DPD_data['dpd_bin'].value_counts()"
   ]
  },
  {
   "cell_type": "markdown",
   "metadata": {},
   "source": [
    "# Bouncing data part 1"
   ]
  },
  {
   "cell_type": "markdown",
   "metadata": {},
   "source": [
    "## deleting the duplicate records in the bouncing data"
   ]
  },
  {
   "cell_type": "code",
   "execution_count": 11,
   "metadata": {},
   "outputs": [],
   "source": [
    "startdate = pd.DataFrame(df_bouncing_data.groupby(['DealId'])['Presentation_Date'].min())\n",
    "df_bouncing_data=df_bouncing_data.set_index(['DealId','Deal_No','Presentation_Date'])\n",
    "from collections import Counter\n"
   ]
  },
  {
   "cell_type": "code",
   "execution_count": 12,
   "metadata": {},
   "outputs": [],
   "source": [
    "index_1=df_bouncing_data.index.values"
   ]
  },
  {
   "cell_type": "code",
   "execution_count": 13,
   "metadata": {},
   "outputs": [],
   "source": [
    "index_2=Counter(index_1)"
   ]
  },
  {
   "cell_type": "code",
   "execution_count": 14,
   "metadata": {},
   "outputs": [],
   "source": [
    "index_3={}\n",
    "for key,value in index_2.items():\n",
    "    if value>1:\n",
    "        index_3[key]=value"
   ]
  },
  {
   "cell_type": "code",
   "execution_count": 15,
   "metadata": {},
   "outputs": [],
   "source": [
    "from collections import defaultdict\n",
    "index_4=defaultdict(list)"
   ]
  },
  {
   "cell_type": "code",
   "execution_count": 16,
   "metadata": {},
   "outputs": [
    {
     "name": "stderr",
     "output_type": "stream",
     "text": [
      "/usr/local/lib/python3.5/dist-packages/ipykernel_launcher.py:1: DeprecationWarning: \n",
      ".ix is deprecated. Please use\n",
      ".loc for label based indexing or\n",
      ".iloc for positional indexing\n",
      "\n",
      "See the documentation here:\n",
      "http://pandas.pydata.org/pandas-docs/stable/indexing.html#ix-indexer-is-deprecated\n",
      "  \"\"\"Entry point for launching an IPython kernel.\n"
     ]
    }
   ],
   "source": [
    "df_bouncing_data2=df_bouncing_data.ix[index_3.keys()]"
   ]
  },
  {
   "cell_type": "code",
   "execution_count": 17,
   "metadata": {},
   "outputs": [],
   "source": [
    "for index,row in df_bouncing_data2.iterrows():\n",
    "    index_4[index].append(row['Clearing_Status'])"
   ]
  },
  {
   "cell_type": "code",
   "execution_count": 18,
   "metadata": {},
   "outputs": [],
   "source": [
    "df_bouncing_data3=pd.DataFrame(columns=df_bouncing_data2.columns)"
   ]
  },
  {
   "cell_type": "code",
   "execution_count": 19,
   "metadata": {},
   "outputs": [],
   "source": [
    "for index,row in df_bouncing_data2.iterrows():\n",
    "    if row['Clearing_Status'] in ['Cleared','Bounced'] and index not in df_bouncing_data3.index:\n",
    "        df_bouncing_data3=df_bouncing_data3.append(row)"
   ]
  },
  {
   "cell_type": "code",
   "execution_count": 95,
   "metadata": {},
   "outputs": [],
   "source": [
    "df_bouncing_data2.to_excel('/home/rami/Downloads/bounce_duplicates.xlsx')"
   ]
  },
  {
   "cell_type": "code",
   "execution_count": 20,
   "metadata": {},
   "outputs": [],
   "source": [
    "# df_bouncing_data.drop(df_bouncing_data.index[], inplace=True)\n",
    "df_bouncing_data_out=df_bouncing_data.loc[~df_bouncing_data.index.isin(df_bouncing_data2.index.values)]"
   ]
  },
  {
   "cell_type": "code",
   "execution_count": 21,
   "metadata": {},
   "outputs": [
    {
     "name": "stdout",
     "output_type": "stream",
     "text": [
      "99884\n"
     ]
    },
    {
     "data": {
      "text/plain": [
       "100268"
      ]
     },
     "execution_count": 21,
     "metadata": {},
     "output_type": "execute_result"
    }
   ],
   "source": [
    "print(len(df_bouncing_data_out))\n",
    "len(df_bouncing_data)\n",
    "df_bouncing_data_out=df_bouncing_data_out.append(df_bouncing_data3)\n",
    "len(df_bouncing_data_out)"
   ]
  },
  {
   "cell_type": "markdown",
   "metadata": {},
   "source": [
    "# Bouncing data part 2 - adding no of bounces in quarter etc"
   ]
  },
  {
   "cell_type": "code",
   "execution_count": 22,
   "metadata": {},
   "outputs": [],
   "source": [
    "def no_of_bounce_in_last_quarter(index,df_bouncing_data):\n",
    "    month1=index[2]-datediff.relativedelta(months=1)\n",
    "    month2=index[2]-datediff.relativedelta(months=2)\n",
    "    month3=index[2]-datediff.relativedelta(months=3)\n",
    "    month4=index[2]-datediff.relativedelta(months=4)\n",
    "    month5=index[2]-datediff.relativedelta(months=5)\n",
    "    month6=index[2]-datediff.relativedelta(months=6)\n",
    "    month7=index[2]-datediff.relativedelta(months=7)\n",
    "    month8=index[2]-datediff.relativedelta(months=8)\n",
    "    month9=index[2]-datediff.relativedelta(months=9)\n",
    "    month10=index[2]-datediff.relativedelta(months=10)\n",
    "    month11=index[2]-datediff.relativedelta(months=11)\n",
    "    month12=index[2]-datediff.relativedelta(months=12)\n",
    "    k=index[0]\n",
    "    start_date=startdate.loc[k]['Presentation_Date']\n",
    "    no_of_bounces=[]\n",
    "    if month1>=start_date:\n",
    "        index2=(index[0],index[1],month1)\n",
    "        try:\n",
    "            if df_bouncing_data.loc[index2]['Clearing_Status'] =='Bounced':\n",
    "                no_of_bounces.append(1)\n",
    "        except TypeError:\n",
    "            no_of_bounces=no_of_bounces\n",
    "    if month2>=start_date:\n",
    "        index2=(index[0],index[1],month2)\n",
    "        try:\n",
    "            if df_bouncing_data.loc[index2]['Clearing_Status'] =='Bounced':\n",
    "                no_of_bounces.append(1)\n",
    "        except TypeError:\n",
    "            no_of_bounces=no_of_bounces\n",
    "    if month3>=start_date:\n",
    "        index2=(index[0],index[1],month3)\n",
    "        try:\n",
    "            if df_bouncing_data.loc[index2]['Clearing_Status'] =='Bounced':\n",
    "                no_of_bounces.append(1)\n",
    "        except TypeError:\n",
    "            no_of_bounces=no_of_bounces\n",
    "    if month4>=start_date:\n",
    "        index2=(index[0],index[1],month4)\n",
    "        try:\n",
    "            if df_bouncing_data.loc[index2]['Clearing_Status'] =='Bounced':\n",
    "                no_of_bounces.append(1)\n",
    "        except TypeError:\n",
    "            no_of_bounces=no_of_bounces\n",
    "    if month5>=start_date:\n",
    "        index2=(index[0],index[1],month5)\n",
    "        try:\n",
    "            if df_bouncing_data.loc[index2]['Clearing_Status'] =='Bounced':\n",
    "                no_of_bounces.append(1)\n",
    "        except TypeError:\n",
    "            no_of_bounces=no_of_bounces\n",
    "    if month6>=start_date:\n",
    "        index2=(index[0],index[1],month6)\n",
    "        try:\n",
    "            if df_bouncing_data.loc[index2]['Clearing_Status'] =='Bounced':\n",
    "                no_of_bounces.append(1)\n",
    "        except TypeError:\n",
    "            no_of_bounces=no_of_bounces\n",
    "    if month7>=start_date:\n",
    "        index2=(index[0],index[1],month7)\n",
    "        try:\n",
    "            if df_bouncing_data.loc[index2]['Clearing_Status'] =='Bounced':\n",
    "                no_of_bounces.append(1)\n",
    "        except TypeError:\n",
    "            no_of_bounces=no_of_bounces\n",
    "    if month8>=start_date:\n",
    "        index2=(index[0],index[1],month8)\n",
    "        try:\n",
    "            if df_bouncing_data.loc[index2]['Clearing_Status'] =='Bounced':\n",
    "                no_of_bounces.append(1)\n",
    "        except TypeError:\n",
    "            no_of_bounces=no_of_bounces\n",
    "    if month9>=start_date:\n",
    "        index2=(index[0],index[1],month9)\n",
    "        try:\n",
    "            if df_bouncing_data.loc[index2]['Clearing_Status'] =='Bounced':\n",
    "                no_of_bounces.append(1)\n",
    "        except TypeError:\n",
    "            no_of_bounces=no_of_bounces\n",
    "    if month10>=start_date:\n",
    "        index2=(index[0],index[1],month10)\n",
    "        try:\n",
    "            if df_bouncing_data.loc[index2]['Clearing_Status'] =='Bounced':\n",
    "                no_of_bounces.append(1)\n",
    "        except TypeError:\n",
    "            no_of_bounces=no_of_bounces\n",
    "    if month11>=start_date:\n",
    "        index2=(index[0],index[1],month11)\n",
    "        try:\n",
    "            if df_bouncing_data.loc[index2]['Clearing_Status'] =='Bounced':\n",
    "                no_of_bounces.append(1)\n",
    "        except TypeError:\n",
    "            no_of_bounces=no_of_bounces\n",
    "    if month12>=start_date:\n",
    "        index2=(index[0],index[1],month12)\n",
    "        try:\n",
    "            if df_bouncing_data.loc[index2]['Clearing_Status'] =='Bounced':\n",
    "                no_of_bounces.append(1)\n",
    "        except TypeError:\n",
    "            no_of_bounces=no_of_bounces\n",
    "    return sum(no_of_bounces[:3]),sum(no_of_bounces[:6]),sum(no_of_bounces)"
   ]
  },
  {
   "cell_type": "code",
   "execution_count": 23,
   "metadata": {},
   "outputs": [
    {
     "data": {
      "text/html": [
       "<div>\n",
       "<style scoped>\n",
       "    .dataframe tbody tr th:only-of-type {\n",
       "        vertical-align: middle;\n",
       "    }\n",
       "\n",
       "    .dataframe tbody tr th {\n",
       "        vertical-align: top;\n",
       "    }\n",
       "\n",
       "    .dataframe thead th {\n",
       "        text-align: right;\n",
       "    }\n",
       "</style>\n",
       "<table border=\"1\" class=\"dataframe\">\n",
       "  <thead>\n",
       "    <tr style=\"text-align: right;\">\n",
       "      <th></th>\n",
       "      <th></th>\n",
       "      <th></th>\n",
       "      <th>Presentation_Receipt_Id</th>\n",
       "      <th>Presenation_Amount</th>\n",
       "      <th>Repay_Mode</th>\n",
       "      <th>Clearing_Status</th>\n",
       "      <th>Bouncing_Reason</th>\n",
       "      <th>Cancellation_reason</th>\n",
       "      <th>quarter_bounced</th>\n",
       "      <th>no_of_bounces_quarterly</th>\n",
       "      <th>no_of_bounces_half_yearly</th>\n",
       "      <th>no_of_bounces_annualy</th>\n",
       "    </tr>\n",
       "    <tr>\n",
       "      <th>DealId</th>\n",
       "      <th>Deal_No</th>\n",
       "      <th>Presentation_Date</th>\n",
       "      <th></th>\n",
       "      <th></th>\n",
       "      <th></th>\n",
       "      <th></th>\n",
       "      <th></th>\n",
       "      <th></th>\n",
       "      <th></th>\n",
       "      <th></th>\n",
       "      <th></th>\n",
       "      <th></th>\n",
       "    </tr>\n",
       "  </thead>\n",
       "  <tbody>\n",
       "    <tr>\n",
       "      <th>100907530</th>\n",
       "      <th>31974</th>\n",
       "      <th>2016-02-05</th>\n",
       "      <td>135156</td>\n",
       "      <td>5130</td>\n",
       "      <td>PDC</td>\n",
       "      <td>Cleared</td>\n",
       "      <td>NaN</td>\n",
       "      <td>NaN</td>\n",
       "      <td>None</td>\n",
       "      <td>None</td>\n",
       "      <td>None</td>\n",
       "      <td>None</td>\n",
       "    </tr>\n",
       "    <tr>\n",
       "      <th>100897748</th>\n",
       "      <th>31772</th>\n",
       "      <th>2016-02-05</th>\n",
       "      <td>138503</td>\n",
       "      <td>2488</td>\n",
       "      <td>PDC</td>\n",
       "      <td>Cleared</td>\n",
       "      <td>NaN</td>\n",
       "      <td>NaN</td>\n",
       "      <td>None</td>\n",
       "      <td>None</td>\n",
       "      <td>None</td>\n",
       "      <td>None</td>\n",
       "    </tr>\n",
       "    <tr>\n",
       "      <th>100899546</th>\n",
       "      <th>31807</th>\n",
       "      <th>2016-02-05</th>\n",
       "      <td>138520</td>\n",
       "      <td>2160</td>\n",
       "      <td>PDC</td>\n",
       "      <td>Cleared</td>\n",
       "      <td>NaN</td>\n",
       "      <td>NaN</td>\n",
       "      <td>None</td>\n",
       "      <td>None</td>\n",
       "      <td>None</td>\n",
       "      <td>None</td>\n",
       "    </tr>\n",
       "    <tr>\n",
       "      <th>100903070</th>\n",
       "      <th>31879</th>\n",
       "      <th>2016-02-05</th>\n",
       "      <td>138549</td>\n",
       "      <td>2347</td>\n",
       "      <td>PDC</td>\n",
       "      <td>Cleared</td>\n",
       "      <td>NaN</td>\n",
       "      <td>NaN</td>\n",
       "      <td>None</td>\n",
       "      <td>None</td>\n",
       "      <td>None</td>\n",
       "      <td>None</td>\n",
       "    </tr>\n",
       "    <tr>\n",
       "      <th>100907245</th>\n",
       "      <th>31968</th>\n",
       "      <th>2016-02-05</th>\n",
       "      <td>138580</td>\n",
       "      <td>4101</td>\n",
       "      <td>PDC</td>\n",
       "      <td>Cleared</td>\n",
       "      <td>NaN</td>\n",
       "      <td>NaN</td>\n",
       "      <td>None</td>\n",
       "      <td>None</td>\n",
       "      <td>None</td>\n",
       "      <td>None</td>\n",
       "    </tr>\n",
       "  </tbody>\n",
       "</table>\n",
       "</div>"
      ],
      "text/plain": [
       "                                    Presentation_Receipt_Id  \\\n",
       "DealId    Deal_No Presentation_Date                           \n",
       "100907530 31974   2016-02-05                         135156   \n",
       "100897748 31772   2016-02-05                         138503   \n",
       "100899546 31807   2016-02-05                         138520   \n",
       "100903070 31879   2016-02-05                         138549   \n",
       "100907245 31968   2016-02-05                         138580   \n",
       "\n",
       "                                    Presenation_Amount Repay_Mode  \\\n",
       "DealId    Deal_No Presentation_Date                                 \n",
       "100907530 31974   2016-02-05                      5130        PDC   \n",
       "100897748 31772   2016-02-05                      2488        PDC   \n",
       "100899546 31807   2016-02-05                      2160        PDC   \n",
       "100903070 31879   2016-02-05                      2347        PDC   \n",
       "100907245 31968   2016-02-05                      4101        PDC   \n",
       "\n",
       "                                    Clearing_Status Bouncing_Reason  \\\n",
       "DealId    Deal_No Presentation_Date                                   \n",
       "100907530 31974   2016-02-05                Cleared             NaN   \n",
       "100897748 31772   2016-02-05                Cleared             NaN   \n",
       "100899546 31807   2016-02-05                Cleared             NaN   \n",
       "100903070 31879   2016-02-05                Cleared             NaN   \n",
       "100907245 31968   2016-02-05                Cleared             NaN   \n",
       "\n",
       "                                    Cancellation_reason quarter_bounced  \\\n",
       "DealId    Deal_No Presentation_Date                                       \n",
       "100907530 31974   2016-02-05                        NaN            None   \n",
       "100897748 31772   2016-02-05                        NaN            None   \n",
       "100899546 31807   2016-02-05                        NaN            None   \n",
       "100903070 31879   2016-02-05                        NaN            None   \n",
       "100907245 31968   2016-02-05                        NaN            None   \n",
       "\n",
       "                                    no_of_bounces_quarterly  \\\n",
       "DealId    Deal_No Presentation_Date                           \n",
       "100907530 31974   2016-02-05                           None   \n",
       "100897748 31772   2016-02-05                           None   \n",
       "100899546 31807   2016-02-05                           None   \n",
       "100903070 31879   2016-02-05                           None   \n",
       "100907245 31968   2016-02-05                           None   \n",
       "\n",
       "                                    no_of_bounces_half_yearly  \\\n",
       "DealId    Deal_No Presentation_Date                             \n",
       "100907530 31974   2016-02-05                             None   \n",
       "100897748 31772   2016-02-05                             None   \n",
       "100899546 31807   2016-02-05                             None   \n",
       "100903070 31879   2016-02-05                             None   \n",
       "100907245 31968   2016-02-05                             None   \n",
       "\n",
       "                                    no_of_bounces_annualy  \n",
       "DealId    Deal_No Presentation_Date                        \n",
       "100907530 31974   2016-02-05                         None  \n",
       "100897748 31772   2016-02-05                         None  \n",
       "100899546 31807   2016-02-05                         None  \n",
       "100903070 31879   2016-02-05                         None  \n",
       "100907245 31968   2016-02-05                         None  "
      ]
     },
     "execution_count": 23,
     "metadata": {},
     "output_type": "execute_result"
    }
   ],
   "source": [
    "df_bouncing_data_out['no_of_bounces_quarterly']=None\n",
    "df_bouncing_data_out['no_of_bounces_half_yearly']=None\n",
    "df_bouncing_data_out['no_of_bounces_annualy']=None\n",
    "# \n",
    "df_bouncing_data_out.head()"
   ]
  },
  {
   "cell_type": "code",
   "execution_count": 24,
   "metadata": {},
   "outputs": [
    {
     "name": "stderr",
     "output_type": "stream",
     "text": [
      "/usr/local/lib/python3.5/dist-packages/ipykernel_launcher.py:3: DeprecationWarning: \n",
      ".ix is deprecated. Please use\n",
      ".loc for label based indexing or\n",
      ".iloc for positional indexing\n",
      "\n",
      "See the documentation here:\n",
      "http://pandas.pydata.org/pandas-docs/stable/indexing.html#ix-indexer-is-deprecated\n",
      "  This is separate from the ipykernel package so we can avoid doing imports until\n",
      "/usr/local/lib/python3.5/dist-packages/ipykernel/kernelbase.py:399: PerformanceWarning: indexing past lexsort depth may impact performance.\n",
      "  user_expressions, allow_stdin)\n"
     ]
    }
   ],
   "source": [
    "for index,row in df_bouncing_data_out.iterrows():\n",
    "#     print(index)\n",
    "    df_bouncing_data_out.ix[index,'no_of_bounces_quarterly'],df_bouncing_data_out.ix[index,'no_of_bounces_half_yearly'],\\\n",
    "    df_bouncing_data_out.ix[index,'no_of_bounces_annualy']=(no_of_bounce_in_last_quarter(index,df_bouncing_data_out))"
   ]
  },
  {
   "cell_type": "code",
   "execution_count": 25,
   "metadata": {},
   "outputs": [],
   "source": [
    "df_bouncing_data_out.to_excel('/home/rami/Downloads/bounce_quarterly.xlsx')"
   ]
  }
 ],
 "metadata": {
  "kernelspec": {
   "display_name": "Python 3",
   "language": "python",
   "name": "python3"
  },
  "language_info": {
   "codemirror_mode": {
    "name": "ipython",
    "version": 3
   },
   "file_extension": ".py",
   "mimetype": "text/x-python",
   "name": "python",
   "nbconvert_exporter": "python",
   "pygments_lexer": "ipython3",
   "version": "3.5.2"
  }
 },
 "nbformat": 4,
 "nbformat_minor": 2
}
